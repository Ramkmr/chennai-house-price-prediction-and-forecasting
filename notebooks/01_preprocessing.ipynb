{
 "cells": [
  {
   "cell_type": "code",
   "execution_count": 37,
   "id": "b491faa4",
   "metadata": {},
   "outputs": [],
   "source": [
    "import pandas as pd\n",
    "import matplotlib.pyplot as plt\n",
    "%matplotlib inline\n",
    "import seaborn as sns\n",
    "\n",
    "import warnings\n",
    "warnings.filterwarnings(\"ignore\")\n",
    "\n",
    "# Loading the dataset\n",
    "file_path = '../data/raw_data.csv'\n",
    "df = pd.read_csv(file_path)"
   ]
  },
  {
   "cell_type": "code",
   "execution_count": 38,
   "id": "c4ab4c7e",
   "metadata": {},
   "outputs": [
    {
     "data": {
      "text/plain": [
       "PRT_ID            0\n",
       "AREA              0\n",
       "INT_SQFT          0\n",
       "DATE_SALE         0\n",
       "DIST_MAINROAD     0\n",
       "N_BEDROOM         1\n",
       "N_BATHROOM        5\n",
       "N_ROOM            0\n",
       "SALE_COND         0\n",
       "PARK_FACIL        0\n",
       "DATE_BUILD        0\n",
       "BUILDTYPE         0\n",
       "UTILITY_AVAIL     0\n",
       "STREET            0\n",
       "MZZONE            0\n",
       "QS_ROOMS          0\n",
       "QS_BATHROOM       0\n",
       "QS_BEDROOM        0\n",
       "QS_OVERALL       48\n",
       "REG_FEE           0\n",
       "COMMIS            0\n",
       "SALES_PRICE       0\n",
       "dtype: int64"
      ]
     },
     "execution_count": 38,
     "metadata": {},
     "output_type": "execute_result"
    }
   ],
   "source": [
    "# Identifying columns with missing values\n",
    "df.isnull().sum()"
   ]
  },
  {
   "cell_type": "code",
   "execution_count": 39,
   "id": "c91d3f3e",
   "metadata": {},
   "outputs": [
    {
     "data": {
      "text/plain": [
       "PRT_ID           0\n",
       "AREA             0\n",
       "INT_SQFT         0\n",
       "DATE_SALE        0\n",
       "DIST_MAINROAD    0\n",
       "N_BEDROOM        0\n",
       "N_BATHROOM       0\n",
       "N_ROOM           0\n",
       "SALE_COND        0\n",
       "PARK_FACIL       0\n",
       "DATE_BUILD       0\n",
       "BUILDTYPE        0\n",
       "UTILITY_AVAIL    0\n",
       "STREET           0\n",
       "MZZONE           0\n",
       "QS_ROOMS         0\n",
       "QS_BATHROOM      0\n",
       "QS_BEDROOM       0\n",
       "QS_OVERALL       0\n",
       "REG_FEE          0\n",
       "COMMIS           0\n",
       "SALES_PRICE      0\n",
       "dtype: int64"
      ]
     },
     "execution_count": 39,
     "metadata": {},
     "output_type": "execute_result"
    }
   ],
   "source": [
    "# Filling missing values only for numeric columns\n",
    "df.fillna(df.select_dtypes(include='number').median(), inplace=True)\n",
    "\n",
    "# Verifying missing values are handled\n",
    "df.isnull().sum()"
   ]
  },
  {
   "cell_type": "code",
   "execution_count": 40,
   "id": "58994240",
   "metadata": {},
   "outputs": [
    {
     "name": "stdout",
     "output_type": "stream",
     "text": [
      "SALE_COND\n",
      "AdjLand        1433\n",
      "Partial        1429\n",
      "Normal Sale    1423\n",
      "AbNormal       1406\n",
      "Family         1403\n",
      "Adj Land          6\n",
      "Ab Normal         5\n",
      "Partiall          3\n",
      "PartiaLl          1\n",
      "Name: count, dtype: int64\n"
     ]
    }
   ],
   "source": [
    "# checking the number of unique values in 'SALE_COND' column\n",
    "\n",
    "value_counts = df['SALE_COND'].value_counts()\n",
    "print(value_counts)"
   ]
  },
  {
   "cell_type": "code",
   "execution_count": 41,
   "id": "eebee252",
   "metadata": {},
   "outputs": [
    {
     "name": "stdout",
     "output_type": "stream",
     "text": [
      "SALE_COND\n",
      "adjland        1439\n",
      "partial        1433\n",
      "normal sale    1423\n",
      "abnormal       1411\n",
      "family         1403\n",
      "Name: count, dtype: int64\n"
     ]
    }
   ],
   "source": [
    "# Replacing the incorrect values with the correct ones\n",
    "df['SALE_COND'] = df['SALE_COND'].replace({\n",
    "    'Adj Land': 'AdjLand',\n",
    "    'Ab Normal': 'AbNormal',\n",
    "    'Partiall': 'Partial',\n",
    "    'PartiaLl': 'Partial'\n",
    "})\n",
    "\n",
    "df['SALE_COND'] = df['SALE_COND'].str.lower()\n",
    "\n",
    "# Verifying the changes\n",
    "print(df['SALE_COND'].value_counts())\n"
   ]
  },
  {
   "cell_type": "code",
   "execution_count": 42,
   "id": "2cafb74e",
   "metadata": {},
   "outputs": [
    {
     "name": "stdout",
     "output_type": "stream",
     "text": [
      "UTILITY_AVAIL\n",
      "AllPub     1886\n",
      "NoSeWa     1871\n",
      "NoSewr     1829\n",
      "ELO        1522\n",
      "All Pub       1\n",
      "Name: count, dtype: int64\n"
     ]
    }
   ],
   "source": [
    "# checking the number of unique values in 'UTILITY_AVAIL' column\n",
    "\n",
    "value_counts = df['UTILITY_AVAIL'].value_counts()\n",
    "print(value_counts)"
   ]
  },
  {
   "cell_type": "code",
   "execution_count": 43,
   "id": "78592c48",
   "metadata": {},
   "outputs": [
    {
     "name": "stdout",
     "output_type": "stream",
     "text": [
      "UTILITY_AVAIL\n",
      "allpub     1887\n",
      "nosewa     1871\n",
      "nosewr     1829\n",
      "elo        1522\n",
      "Name: count, dtype: int64\n"
     ]
    }
   ],
   "source": [
    "# Replacing the incorrect values with the correct ones\n",
    "df['UTILITY_AVAIL'] = df['UTILITY_AVAIL'].replace({\n",
    "    'All Pub': 'AllPub'\n",
    "})\n",
    "\n",
    "df['UTILITY_AVAIL'] = df['UTILITY_AVAIL'].str.lower()\n",
    "\n",
    "# Verifying the changes\n",
    "print(df['UTILITY_AVAIL'].value_counts())"
   ]
  },
  {
   "cell_type": "code",
   "execution_count": 44,
   "id": "d5d1e5cf",
   "metadata": {},
   "outputs": [
    {
     "name": "stdout",
     "output_type": "stream",
     "text": [
      "STREET\n",
      "Paved        2560\n",
      "Gravel       2520\n",
      "No Access    2010\n",
      "Pavd           12\n",
      "NoAccess        7\n",
      "Name: count, dtype: int64\n"
     ]
    }
   ],
   "source": [
    "# checking the number of unique values in 'STREET' column\n",
    "\n",
    "value_counts = df['STREET'].value_counts()\n",
    "print(value_counts)"
   ]
  },
  {
   "cell_type": "code",
   "execution_count": 45,
   "id": "a1c696ef",
   "metadata": {},
   "outputs": [
    {
     "name": "stdout",
     "output_type": "stream",
     "text": [
      "STREET\n",
      "paved        2572\n",
      "gravel       2520\n",
      "no access    2017\n",
      "Name: count, dtype: int64\n"
     ]
    }
   ],
   "source": [
    "# Replacing the incorrect values with the correct ones\n",
    "df['STREET'] = df['STREET'].replace({\n",
    "    'Pavd': 'Paved',\n",
    "    'NoAccess': 'No Access'\n",
    "})\n",
    "\n",
    "df['STREET'] = df['STREET'].str.lower()\n",
    "\n",
    "# Verifying the changes\n",
    "print(df['STREET'].value_counts())"
   ]
  },
  {
   "cell_type": "code",
   "execution_count": 46,
   "id": "0e02143a",
   "metadata": {},
   "outputs": [
    {
     "name": "stdout",
     "output_type": "stream",
     "text": [
      "MZZONE\n",
      "RL    1858\n",
      "RH    1822\n",
      "RM    1817\n",
      "C      550\n",
      "A      537\n",
      "I      525\n",
      "Name: count, dtype: int64\n"
     ]
    }
   ],
   "source": [
    "# checking the number of unique values in 'MZZONE' column\n",
    "\n",
    "value_counts = df['MZZONE'].value_counts()\n",
    "print(value_counts)"
   ]
  },
  {
   "cell_type": "code",
   "execution_count": 47,
   "id": "d6e189a2",
   "metadata": {},
   "outputs": [
    {
     "name": "stdout",
     "output_type": "stream",
     "text": [
      "MZZONE\n",
      "rl    1858\n",
      "rh    1822\n",
      "rm    1817\n",
      "c      550\n",
      "a      537\n",
      "i      525\n",
      "Name: count, dtype: int64\n"
     ]
    }
   ],
   "source": [
    "df['MZZONE'] = df['MZZONE'].str.lower()\n",
    "\n",
    "value_counts = df['MZZONE'].value_counts()\n",
    "print(value_counts)"
   ]
  },
  {
   "cell_type": "code",
   "execution_count": 48,
   "id": "d40b87f7",
   "metadata": {},
   "outputs": [
    {
     "name": "stdout",
     "output_type": "stream",
     "text": [
      "BUILDTYPE\n",
      "House         2444\n",
      "Commercial    2325\n",
      "Others        2310\n",
      "Other           26\n",
      "Comercial        4\n",
      "Name: count, dtype: int64\n"
     ]
    }
   ],
   "source": [
    "# checking the number of unique values in 'BUILDTYPE' column\n",
    "\n",
    "value_counts = df['BUILDTYPE'].value_counts()\n",
    "print(value_counts)"
   ]
  },
  {
   "cell_type": "code",
   "execution_count": 49,
   "id": "964632fc",
   "metadata": {},
   "outputs": [
    {
     "name": "stdout",
     "output_type": "stream",
     "text": [
      "BUILDTYPE\n",
      "house         2444\n",
      "others        2336\n",
      "commercial    2329\n",
      "Name: count, dtype: int64\n"
     ]
    }
   ],
   "source": [
    "# Replacing the incorrect values with the correct ones\n",
    "df['BUILDTYPE'] = df['BUILDTYPE'].replace({\n",
    "    'Comercial': 'Commercial',\n",
    "    'Other': 'Others'\n",
    "})\n",
    "\n",
    "df['BUILDTYPE'] = df['BUILDTYPE'].str.lower()\n",
    "\n",
    "# Verifying the changes\n",
    "print(df['BUILDTYPE'].value_counts())"
   ]
  },
  {
   "cell_type": "code",
   "execution_count": 50,
   "id": "98d65c76",
   "metadata": {},
   "outputs": [
    {
     "data": {
      "text/plain": [
       "array(['Yes', 'No', 'Noo'], dtype=object)"
      ]
     },
     "execution_count": 50,
     "metadata": {},
     "output_type": "execute_result"
    }
   ],
   "source": [
    "# checking the number of unique values in 'PARK_FACIL' column\n",
    "\n",
    "df['PARK_FACIL'].unique()"
   ]
  },
  {
   "cell_type": "code",
   "execution_count": 51,
   "id": "1d8c6518",
   "metadata": {},
   "outputs": [
    {
     "data": {
      "text/plain": [
       "array(['yes', 'no'], dtype=object)"
      ]
     },
     "execution_count": 51,
     "metadata": {},
     "output_type": "execute_result"
    }
   ],
   "source": [
    "# Replacing the incorrect values with the correct ones\n",
    "\n",
    "df['PARK_FACIL'] = df['PARK_FACIL'].replace({'Noo': 'No'})\n",
    "\n",
    "df['PARK_FACIL'] = df['PARK_FACIL'].str.lower()\n",
    "\n",
    "df['PARK_FACIL'].unique()"
   ]
  },
  {
   "cell_type": "code",
   "execution_count": 52,
   "id": "eeb264c4",
   "metadata": {},
   "outputs": [
    {
     "data": {
      "text/plain": [
       "AREA\n",
       "Chrompet      1702\n",
       "Karapakkam    1366\n",
       "KK Nagar       997\n",
       "Velachery      981\n",
       "Anna Nagar     788\n",
       "Adyar          774\n",
       "T Nagar        501\n",
       "Name: count, dtype: int64"
      ]
     },
     "execution_count": 52,
     "metadata": {},
     "output_type": "execute_result"
    }
   ],
   "source": [
    "# correcting the values in 'AREA' \n",
    "\n",
    "df['AREA'] = df['AREA'].replace({'Chrompt': 'Chrompet', 'Chrmpet': 'Chrompet','Chormpet':'Chrompet','TNagar':'T Nagar','Karapakam':'Karapakkam','Ana Nagar':'Anna Nagar','Velchery':'Velachery','Ann Nagar':'Anna Nagar','Adyr':'Adyar','KKNagar':'KK Nagar'})\n",
    "df['AREA'].value_counts()"
   ]
  },
  {
   "cell_type": "code",
   "execution_count": 53,
   "id": "a70a6e0b",
   "metadata": {},
   "outputs": [],
   "source": [
    "# Step 1: Identifying missing dates\n",
    "def get_missing_dates(df):\n",
    "    all_dates = pd.date_range(start=df.index.min(), end=df.index.max())\n",
    "    missing_dates = all_dates.difference(df.index)\n",
    "    return missing_dates\n",
    "\n",
    "# Step 2: Separating the extra records, keeping the first occurrence for each date\n",
    "def separate_extra_records(df):\n",
    "    first_occurrences = df[~df.index.duplicated(keep='first')]\n",
    "    extra_records = df[df.index.duplicated(keep='first')]\n",
    "    return first_occurrences, extra_records\n",
    "\n",
    "# Step 3: Attempting to match missing dates with extra records within ±21 days\n",
    "def fill_missing_dates(shift_df, extra_records, missing_dates):\n",
    "    filled_dates = []\n",
    "    \n",
    "    for missing_date in missing_dates:\n",
    "        # Finding a date within ±21 days that has extra records\n",
    "        for offset in range(-21, 22):  # Considering ±21 days\n",
    "            check_date = missing_date + pd.Timedelta(days=offset)\n",
    "            \n",
    "            if check_date in extra_records.index:\n",
    "                # Getting the extra record(s) for the check_date\n",
    "                extra_record = extra_records.loc[check_date]\n",
    "                \n",
    "                # Handling the case where extra_record is a single Series instead of a DataFrame\n",
    "                if isinstance(extra_record, pd.Series):\n",
    "                    extra_record = extra_record.to_frame().T\n",
    "\n",
    "                # Copying the first extra record\n",
    "                extra_record_copy = extra_record.iloc[0].copy()\n",
    "                \n",
    "                # Setting its new date to the missing date\n",
    "                extra_record_copy.name = missing_date\n",
    "                \n",
    "                # Adding this record to the shift_df\n",
    "                shift_df = pd.concat([shift_df, pd.DataFrame([extra_record_copy])])\n",
    "                \n",
    "                # Removing the used record from extra_records\n",
    "                prt_id_to_remove = extra_record_copy['PRT_ID']\n",
    "                extra_records = extra_records[extra_records['PRT_ID'] != prt_id_to_remove]\n",
    "                \n",
    "                # Marking the missing date as filled\n",
    "                filled_dates.append(missing_date)\n",
    "                break\n",
    "    \n",
    "    # Sorting shift_df by index (date)\n",
    "    shift_df.sort_index(inplace=True)\n",
    "    \n",
    "    # Remaining missing dates\n",
    "    remaining_missing_dates = [date for date in missing_dates if date not in filled_dates]\n",
    "    \n",
    "    return shift_df, remaining_missing_dates, extra_records\n",
    "\n",
    "# changing the date columns to datetime format\n",
    "\n",
    "df.DATE_SALE = pd.to_datetime(df.DATE_SALE, format='%d-%m-%Y')\n",
    "df.DATE_BUILD = pd.to_datetime(df.DATE_BUILD, format='%d-%m-%Y')\n",
    "\n",
    "df.set_index('DATE_SALE', inplace = True)\n",
    "df = df.sort_index()\n",
    "\n",
    "shift_df = df.copy()\n",
    "\n",
    "# Getting missing dates\n",
    "missing_dates = get_missing_dates(shift_df)\n",
    "\n",
    "# Separating first occurrences and extra records\n",
    "first_occurrences, extra_records = separate_extra_records(shift_df)\n",
    "\n",
    "# Filling missing dates with extra records\n",
    "filled_shift_df, remaining_missing_dates, remaining_extra_records = fill_missing_dates(first_occurrences, extra_records, missing_dates)\n",
    "\n",
    "# Result: filled_shift_df with missing dates filled, and remaining unfilled records in remaining_missing_dates and remaining_extra_records\n"
   ]
  },
  {
   "cell_type": "code",
   "execution_count": 54,
   "id": "96d5f3dc",
   "metadata": {},
   "outputs": [
    {
     "data": {
      "text/plain": [
       "3360"
      ]
     },
     "execution_count": 54,
     "metadata": {},
     "output_type": "execute_result"
    }
   ],
   "source": [
    "len(filled_shift_df)"
   ]
  },
  {
   "cell_type": "code",
   "execution_count": 55,
   "id": "f6b0b783",
   "metadata": {},
   "outputs": [
    {
     "data": {
      "text/plain": [
       "691"
      ]
     },
     "execution_count": 55,
     "metadata": {},
     "output_type": "execute_result"
    }
   ],
   "source": [
    "len(remaining_missing_dates)"
   ]
  },
  {
   "cell_type": "code",
   "execution_count": 56,
   "id": "faec127b",
   "metadata": {},
   "outputs": [
    {
     "data": {
      "text/plain": [
       "3749"
      ]
     },
     "execution_count": 56,
     "metadata": {},
     "output_type": "execute_result"
    }
   ],
   "source": [
    "len(remaining_extra_records)"
   ]
  },
  {
   "cell_type": "code",
   "execution_count": 57,
   "id": "f4551fed",
   "metadata": {},
   "outputs": [
    {
     "name": "stdout",
     "output_type": "stream",
     "text": [
      "691\n"
     ]
    },
    {
     "data": {
      "image/png": "[encoded data removed]",
      "text/plain": [
       "<Figure size 4800x600 with 1 Axes>"
      ]
     },
     "metadata": {},
     "output_type": "display_data"
    }
   ],
   "source": [
    "import matplotlib.pyplot as plt\n",
    "import matplotlib.dates as mdates\n",
    "\n",
    "# Ensuring dates are in datetime format\n",
    "missing_dates = pd.to_datetime(remaining_missing_dates)\n",
    "\n",
    "print(len(remaining_missing_dates))\n",
    "\n",
    "# Plotting missing dates\n",
    "plt.figure(figsize=(48, 6))\n",
    "plt.plot(remaining_missing_dates, [1] * len(remaining_missing_dates), 'ro', markersize=5)\n",
    "plt.yticks([])  # Hide y-axis ticks\n",
    "plt.xlabel('Date')\n",
    "plt.title('Missing Dates in the Dataset')\n",
    "\n",
    "# Formatting the x-axis to show months and years\n",
    "plt.gca().xaxis.set_major_locator(mdates.MonthLocator())  # Major ticks every month\n",
    "plt.gca().xaxis.set_major_formatter(mdates.DateFormatter('%b %Y'))  # Format as 'Month Year'\n",
    "\n",
    "plt.grid(True)\n",
    "plt.xticks(rotation=45)  # Rotate x-axis labels for better readability\n",
    "plt.tight_layout()  # Adjust layout to prevent clipping of labels\n",
    "plt.show()"
   ]
  },
  {
   "cell_type": "code",
   "execution_count": 58,
   "id": "1c03121e",
   "metadata": {
    "scrolled": true
   },
   "outputs": [
    {
     "data": {
      "image/png": "[encoded data removed]",
      "text/plain": [
       "<Figure size 1200x600 with 1 Axes>"
      ]
     },
     "metadata": {},
     "output_type": "display_data"
    }
   ],
   "source": [
    "# Ensuring the dates are in a list or hashable format\n",
    "remaining_extra_records_dates = remaining_extra_records.index.tolist()\n",
    "\n",
    "# Plotting remaining extra records by their dates\n",
    "plt.figure(figsize=(12, 6))\n",
    "plt.plot(remaining_extra_records_dates, [1] * len(remaining_extra_records_dates), 'bo', markersize=5)  # 'bo' for blue dots\n",
    "plt.yticks([])  # Hide y-axis ticks\n",
    "plt.xlabel('Date')\n",
    "plt.title('Remaining Extra Records')\n",
    "plt.show()\n"
   ]
  },
  {
   "cell_type": "code",
   "execution_count": 59,
   "id": "0db4b664",
   "metadata": {},
   "outputs": [],
   "source": [
    "# Defining the cutoff date\n",
    "cutoff_date = pd.to_datetime('2006-09-01')\n",
    "\n",
    "# Filtering the dataframes to only include records from September 2006 onwards\n",
    "filtered_shift_df = filled_shift_df[filled_shift_df.index >= cutoff_date]\n",
    "filtered_extra_records = remaining_extra_records[remaining_extra_records.index >= cutoff_date]\n"
   ]
  },
  {
   "cell_type": "code",
   "execution_count": 60,
   "id": "7747de4e",
   "metadata": {},
   "outputs": [],
   "source": [
    "# Concatenating the two dataframes\n",
    "merged_df = pd.concat([filtered_shift_df, filtered_extra_records])\n",
    "\n",
    "# Ensuring the DataFrame is sorted by date\n",
    "merged_df.sort_index(inplace=True)\n"
   ]
  },
  {
   "cell_type": "code",
   "execution_count": 61,
   "id": "6daaad45",
   "metadata": {},
   "outputs": [],
   "source": [
    "# Adding the record_count feature (number of records per date)\n",
    "merged_df['record_count'] = merged_df.groupby(merged_df.index)['PRT_ID'].transform('count')\n",
    "\n",
    "# Adding the multiple_records feature (binary indicator)\n",
    "merged_df['multiple_records'] = (merged_df['record_count'] > 1).astype(int)\n"
   ]
  },
  {
   "cell_type": "code",
   "execution_count": 62,
   "id": "ee9d7abb",
   "metadata": {},
   "outputs": [
    {
     "data": {
      "text/plain": [
       "6791"
      ]
     },
     "execution_count": 62,
     "metadata": {},
     "output_type": "execute_result"
    }
   ],
   "source": [
    "len(merged_df)"
   ]
  },
  {
   "cell_type": "code",
   "execution_count": 63,
   "id": "e8fc4281",
   "metadata": {},
   "outputs": [
    {
     "data": {
      "text/plain": [
       "46"
      ]
     },
     "execution_count": 63,
     "metadata": {},
     "output_type": "execute_result"
    }
   ],
   "source": [
    "all_dates_m = pd.date_range(start=merged_df.index.min(), end=merged_df.index.max())\n",
    "missing_dates_m = all_dates_m.difference(merged_df.index)\n",
    "len(missing_dates_m)"
   ]
  },
  {
   "cell_type": "code",
   "execution_count": 65,
   "id": "b27415e0",
   "metadata": {},
   "outputs": [],
   "source": [
    "file_path = '../data/preprocessed_data.csv'\n",
    "merged_df.to_csv(file_path, index=True)"
   ]
  },
  {
   "cell_type": "code",
   "execution_count": null,
   "id": "1ca031e0",
   "metadata": {},
   "outputs": [],
   "source": []
  }
 ],
 "metadata": {
  "kernelspec": {
   "display_name": "Python 3 (ipykernel)",
   "language": "python",
   "name": "python3"
  },
  "language_info": {
   "codemirror_mode": {
    "name": "ipython",
    "version": 3
   },
   "file_extension": ".py",
   "mimetype": "text/x-python",
   "name": "python",
   "nbconvert_exporter": "python",
   "pygments_lexer": "ipython3",
   "version": "3.9.10"
  }
 },
 "nbformat": 4,
 "nbformat_minor": 5
}
