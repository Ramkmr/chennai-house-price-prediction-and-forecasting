{
 "cells": [
  {
   "cell_type": "code",
   "execution_count": 15,
   "id": "f38c0dde",
   "metadata": {},
   "outputs": [],
   "source": [
    "import pandas as pd\n",
    "import numpy as np\n",
    "import matplotlib.pyplot as plt\n",
    "%matplotlib inline\n",
    "import seaborn as sns\n",
    "\n",
    "import warnings\n",
    "warnings.filterwarnings(\"ignore\")\n",
    "\n",
    "# Loading the dataset\n",
    "file_path = '../data/feature_engineered_data.csv'\n",
    "df = pd.read_csv(file_path, index_col = 0)"
   ]
  },
  {
   "cell_type": "code",
   "execution_count": 16,
   "id": "a03752e0",
   "metadata": {
    "scrolled": true
   },
   "outputs": [],
   "source": [
    "df.index = pd.to_datetime(df.index)"
   ]
  },
  {
   "cell_type": "code",
   "execution_count": 18,
   "id": "f879ac0f",
   "metadata": {},
   "outputs": [],
   "source": [
    "# Adding temporal variables\n",
    "df['YEAR'] = df.index.year\n",
    "df['MONTH'] = df.index.month\n",
    "df['DAY'] = df.index.day\n",
    "df['QUARTER'] = df.index.quarter"
   ]
  },
  {
   "cell_type": "code",
   "execution_count": 22,
   "id": "971c3f70",
   "metadata": {},
   "outputs": [
    {
     "name": "stdout",
     "output_type": "stream",
     "text": [
      "Fitting 5 folds for each of 100 candidates, totalling 500 fits\n",
      "Fitting 5 folds for each of 100 candidates, totalling 500 fits\n",
      "Fitting 5 folds for each of 100 candidates, totalling 500 fits\n",
      "Fitting 5 folds for each of 100 candidates, totalling 500 fits\n",
      "Fitting 5 folds for each of 100 candidates, totalling 500 fits\n",
      "Average MSE:  747438169163.9238\n",
      "Average R²:  0.8975293889626934\n",
      "Average MAE:  636821.4240272373\n"
     ]
    }
   ],
   "source": [
    "from xgboost import XGBRegressor\n",
    "from sklearn.model_selection import TimeSeriesSplit, RandomizedSearchCV\n",
    "from sklearn.metrics import mean_squared_error, r2_score, mean_absolute_error\n",
    "import pandas as pd\n",
    "\n",
    "# Initialize TimeSeriesSplit\n",
    "tscv = TimeSeriesSplit(n_splits=5)\n",
    "\n",
    "# Lists to store scores for each fold\n",
    "mse_scores = []\n",
    "r2_scores = []\n",
    "mae_scores = []\n",
    "\n",
    "# Parameter grid for RandomizedSearchCV\n",
    "param_grid = {\n",
    "    'n_estimators': [100, 200, 300, 400, 500],\n",
    "    'learning_rate': [0.001, 0.01, 0.05, 0.1],\n",
    "    'max_depth': [3, 5, 7, 10, 12, 15],\n",
    "    'min_child_weight': [1, 3, 5, 7, 10],\n",
    "    'subsample': [0.6, 0.7, 0.8, 0.9, 1.0],\n",
    "    'colsample_bytree': [0.6, 0.7, 0.8, 0.9, 1.0],\n",
    "    'colsample_bylevel': [0.6, 0.7, 0.8, 0.9, 1.0],\n",
    "    'gamma': [0, 0.1, 0.2, 0.4, 0.5],\n",
    "    'alpha': [0, 0.1, 0.5, 1.0],\n",
    "    'lambda': [1, 1.5, 2.0, 3.0],\n",
    "    'scale_pos_weight': [1, 2, 5],\n",
    "    'max_delta_step': [0, 1, 5],\n",
    "}\n",
    "\n",
    "# Features with all variables (including temporal ones)\n",
    "X = df[['INT_SQFT', 'N_ROOM', 'AREA', 'SALE_COND', \n",
    "        'PARK_FACIL', 'UTILITY_AVAIL', 'MZZONE', 'DIST_MAINROAD', \n",
    "        'BUILDTYPE_commercial', 'BUILDTYPE_house' , 'PROPERTY_AGE', 'AREA_INT_SQFT', \n",
    "        'AREA_N_ROOM','YEAR', 'MONTH', 'DAY', 'QUARTER']].values\n",
    "\n",
    "# Target variable (total_price)\n",
    "y = df['SALES_PRICE'].values\n",
    "\n",
    "# TimeSeries cross-validation\n",
    "for train_index, test_index in tscv.split(X):\n",
    "    \n",
    "    # Train and test sets\n",
    "    X_train, X_test = X[train_index], X[test_index]\n",
    "    y_train, y_test = y[train_index], y[test_index]\n",
    "    \n",
    "    # RandomizedSearchCV for XGBoost with all variables\n",
    "    xgb = XGBRegressor(objective='reg:squarederror', random_state=42)\n",
    "    random_search = RandomizedSearchCV(\n",
    "        estimator=xgb,\n",
    "        param_distributions=param_grid,\n",
    "        n_iter=100,  # Number of parameter combinations to try\n",
    "        scoring='neg_mean_squared_error',\n",
    "        cv=tscv,  # Use TimeSeriesSplit for cross-validation\n",
    "        verbose=3,\n",
    "        n_jobs=-1,\n",
    "        random_state=42\n",
    "    )\n",
    "    \n",
    "    # Fit the model\n",
    "    random_search.fit(X_train, y_train)\n",
    "    best_xgb = random_search.best_estimator_\n",
    "    \n",
    "    # Predict on test set\n",
    "    y_pred = best_xgb.predict(X_test)\n",
    "    \n",
    "    # Calculate scores\n",
    "    mse = mean_squared_error(y_test, y_pred)\n",
    "    r2 = r2_score(y_test, y_pred)\n",
    "    mae = mean_absolute_error(y_test, y_pred)\n",
    "    \n",
    "    # Store the scores for each fold\n",
    "    mse_scores.append(mse)\n",
    "    r2_scores.append(r2)\n",
    "    mae_scores.append(mae)\n",
    "\n",
    "# Output average scores across all folds\n",
    "print(\"Average MSE: \", sum(mse_scores) / len(mse_scores))\n",
    "print(\"Average R²: \", sum(r2_scores) / len(r2_scores))\n",
    "print(\"Average MAE: \", sum(mae_scores) / len(mae_scores))\n"
   ]
  },
  {
   "cell_type": "markdown",
   "id": "4dc2a50b",
   "metadata": {},
   "source": [
    "# After adding interacting variables:\n",
    "Average MSE:  747438169163.9238\n",
    "\n",
    "Average R²:  0.8975293889626934\n",
    "\n",
    "Average MAE:  636821.4240272373"
   ]
  },
  {
   "cell_type": "markdown",
   "id": "d1777952",
   "metadata": {},
   "source": [
    "# Before adding interacting variables:\n",
    "Average MSE:  896852790569.9255\n",
    "\n",
    "Average R²:  0.8747397615887887\n",
    "\n",
    "Average MAE:  677170.7884241246"
   ]
  },
  {
   "cell_type": "code",
   "execution_count": null,
   "id": "1e5b9ccf",
   "metadata": {},
   "outputs": [],
   "source": []
  }
 ],
 "metadata": {
  "kernelspec": {
   "display_name": "Python 3 (ipykernel)",
   "language": "python",
   "name": "python3"
  },
  "language_info": {
   "codemirror_mode": {
    "name": "ipython",
    "version": 3
   },
   "file_extension": ".py",
   "mimetype": "text/x-python",
   "name": "python",
   "nbconvert_exporter": "python",
   "pygments_lexer": "ipython3",
   "version": "3.9.10"
  }
 },
 "nbformat": 4,
 "nbformat_minor": 5
}
